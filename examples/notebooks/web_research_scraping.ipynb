{
 "cells": [
  {
   "cell_type": "markdown",
   "metadata": {},
   "source": [
    "\n",
    "# 🤖 Local Operator Conversation Notebook 📓\n",
    "\n",
    "This notebook contains the exported conversation and code execution history from a\n",
    "<a href='https://local-operator.com'>Local Operator</a> agent session.\n",
    "\n",
    "## 📊 Session Information\n",
    "\n",
    "<table style='width: 80%; border-collapse: collapse;'>\n",
    "  <tr><td style='padding: 8px; font-weight: bold;'>📅 Date and Time</td>\n",
    "  <td>2025-02-27 23:42:33</td></tr>\n",
    "  <tr><td style='padding: 8px; font-weight: bold;'>🔢 Local Operator Version</td>\n",
    "  <td>0.3.3</td></tr>\n",
    "  <tr><td style='padding: 8px; font-weight: bold;'>🧠 Model</td>\n",
    "  <td>qwen/qwen-2.5-72b-instruct</td></tr>\n",
    "  <tr><td style='padding: 8px; font-weight: bold;'>☁️ Hosting</td>\n",
    "  <td>openrouter</td></tr>\n",
    "  <tr><td style='padding: 8px; font-weight: bold;'>💬 Max Conversation History</td>\n",
    "  <td>100</td></tr>\n",
    "  <tr><td style='padding: 8px; font-weight: bold;'>📜 Detailed Conversation Length</td>\n",
    "  <td>25</td></tr>\n",
    "  <tr><td style='padding: 8px; font-weight: bold;'>📚 Learning History Length</td>\n",
    "  <td>50</td></tr>\n",
    "</table>\n",
    "\n",
    "💡 **Tip:** To reproduce this conversation, you can run Local Operator with the\n",
    "same configuration settings listed above.\n"
   ]
  },
  {
   "cell_type": "markdown",
   "metadata": {},
   "source": [
    "👤 **User**: please download the canadian sanctions list to a csv and make sure that you have all the records"
   ]
  },
  {
   "cell_type": "markdown",
   "metadata": {},
   "source": [
    "🤖 **Assistant**: ### Detailed Plan to Download the Canadian Sanctions List to a CSV\n",
    "\n",
    "#### 1. Gather Information about the User's Goal\n",
    "- **Objective**: Download the Canadian sanctions list and ensure all records are included in a CSV file.\n",
    "- **Source**: The Canadian sanctions list is typically available from the Government of Canada's website or an official API.\n",
    "\n",
    "#### 2. Break Down the Goal into Smaller, Manageable Steps\n",
    "1. **Research the Source of the Canadian Sanctions List**\n",
    "   - Identify the official source of the Canadian sanctions list.\n",
    "   - Determine if the list is available in a downloadable format (e.g., CSV, JSON, or API).\n",
    "\n",
    "2. **Download the Sanctions List**\n",
    "   - Use the identified source to download the list.\n",
    "   - If the list is available via an API, use the `requests` library to fetch the data.\n",
    "   - If the list is available as a downloadable file, use the `requests` library to download it.\n",
    "\n",
    "3. **Convert the Data to CSV Format**\n",
    "   - If the data is not already in CSV format, convert it to CSV.\n",
    "   - Use the `pandas` library to handle the conversion and ensure all records are included.\n",
    "\n",
    "4. **Save the CSV File**\n",
    "   - Save the CSV file to the local filesystem.\n",
    "   - Verify that the file has been saved correctly and contains all records.\n",
    "\n",
    "5. **Verify the Data**\n",
    "   - Check the number of records in the CSV file to ensure all records are present.\n",
    "   - Perform a quick data validation to ensure the data is in the expected format.\n",
    "\n",
    "#### 3. Identify the Tools and Resources Needed for Each Step\n",
    "- **Research the Source**:\n",
    "  - Use the `search_web` tool to find the official source of the Canadian sanctions list.\n",
    "- **Download the Sanctions List**:\n",
    "  - Use the `requests` library to fetch the data.\n",
    "- **Convert the Data to CSV Format**:\n",
    "  - Use the `pandas` library to handle the conversion.\n",
    "- **Save the CSV File**:\n",
    "  - Use the `pandas` library to save the file.\n",
    "- **Verify the Data**:\n",
    "  - Use the `pandas` library to read the CSV file and perform validation.\n",
    "\n",
    "#### 4. Determine the Order in Which the Steps Should Be Executed\n",
    "1. Research the source of the Canadian sanctions list.\n",
    "2. Download the sanctions list.\n",
    "3. Convert the data to CSV format.\n",
    "4. Save the CSV file.\n",
    "5. Verify the data.\n",
    "\n",
    "#### 5. Create a Detailed Plan That Outlines Each Step, the Tools/Resources Required, and the Expected Outcome\n",
    "1. **Research the Source of the Canadian Sanctions List**\n",
    "   - **Action**: Use the `search_web` tool to find the official source of the Canadian sanctions list.\n",
    "   - **Tools**: `search_web`\n",
    "   - **Expected Outcome**: Identify the URL or API endpoint for the Canadian sanctions list.\n",
    "\n",
    "2. **Download the Sanctions List**\n",
    "   - **Action**: Use the `requests` library to fetch the data from the identified source.\n",
    "   - **Tools**: `requests`\n",
    "   - **Expected Outcome**: Download the sanctions list data in a suitable format (e.g., JSON, XML).\n",
    "\n",
    "3. **Convert the Data to CSV Format**\n",
    "   - **Action**: Use the `pandas` library to convert the data to CSV format.\n",
    "   - **Tools**: `pandas`\n",
    "   - **Expected Outcome**: A CSV file containing all records from the sanctions list.\n",
    "\n",
    "4. **Save the CSV File**\n",
    "   - **Action**: Use the `pandas` library to save the CSV file to the local filesystem.\n",
    "   - **Tools**: `pandas`\n",
    "   - **Expected Outcome**: A CSV file saved to the local filesystem.\n",
    "\n",
    "5. **Verify the Data**\n",
    "   - **Action**: Use the `pandas` library to read the CSV file and perform validation.\n",
    "   - **Tools**: `pandas`\n",
    "   - **Expected Outcome**: Verification that the CSV file contains all records and is in the expected format.\n",
    "\n",
    "#### 6. Create a Validation Plan for How You Will Check That Each Step is Successful and That the Overall Goal is Achieved at the End\n",
    "1. **Research the Source**\n",
    "   - **Validation**: Ensure the URL or API endpoint is correct and accessible.\n",
    "2. **Download the Sanctions List**\n",
    "   - **Validation**: Check the response status code and ensure the data is downloaded successfully.\n",
    "3. **Convert the Data to CSV Format**\n",
    "   - **Validation**: Ensure the data is converted to CSV format without errors.\n",
    "4. **Save the CSV File**\n",
    "   - **Validation**: Verify that the CSV file is saved to the local filesystem and contains data.\n",
    "5. **Verify the Data**\n",
    "   - **Validation**: Check the number of records in the CSV file and perform a quick data validation to ensure the data is in the expected format.\n",
    "\n",
    "By following this detailed plan, we will ensure that the Canadian sanctions list is downloaded, converted to CSV format, and saved to the local filesystem with all records included."
   ]
  },
  {
   "cell_type": "markdown",
   "metadata": {},
   "source": [
    "🤖 **Assistant**: I will start by researching the official source of the Canadian sanctions list."
   ]
  },
  {
   "cell_type": "code",
   "execution_count": null,
   "metadata": {},
   "outputs": [
    {
     "name": "stdout",
     "output_type": "stream",
     "text": [
      "Output:\n",
      "Position: 1, Title: Consolidated Canadian Autonomous Sanctions List, Link: https://www.international.gc.ca/world-monde/international_relations-relations_internationales/sanctions/consolidated-consolide.aspx?lang=eng, Snippet: The Consolidated Canadian Autonomous Sanctions List includes individuals and entities subject to specific sanctions regulations.\n",
      "Position: 2, Title: Current sanctions imposed by Canada, Link: https://www.international.gc.ca/world-monde/international_relations-relations_internationales/sanctions/current-actuelles.aspx?lang=eng, Snippet: Current sanctions imposed by Canada · United Nations Act (UNA); · Special Economic Measures Act (SEMA); or · Justice for Victims of Corrupt Foreign ...\n",
      "Position: 3, Title: Canadian Consolidated Autonomous Sanctions List, Link: https://www.opensanctions.org/datasets/ca_dfatd_sema_sanctions/, Snippet: The Consolidated Canadian Autonomous Sanctions List includes individuals and entities subject to specific sanctions regulations made under the Special Economic ...\n",
      "Position: 4, Title: Sanctions List Search, Link: https://sanctionssearch.ofac.treas.gov/, Snippet: Sanctions List Search is one tool offered to assist users in utilizing the SDN List and/or the various other sanctions lists; use of Sanctions List Search is ...\n",
      "Position: 5, Title: Sanctions List Search Tool, Link: https://ofac.treasury.gov/sanctions-list-search-tool, Snippet: OFAC's Sanctions List Search tool employs fuzzy logic on its name search field to look for potential matches on the Specially Designated Nationals (SDN) List.\n",
      "Errors:\n",
      "[No error output]\n",
      "Logging:\n",
      "[No logger output]\n"
     ]
    }
   ],
   "source": [
    "import json\n",
    "\n",
    "# Search the web for the official source of the Canadian sanctions list\n",
    "search_results = tools.search_web(query='Canadian sanctions list official source', provider='google', max_results=5)\n",
    "\n",
    "# Extract the organic results from the search results\n",
    "organic_results = search_results.organic_results\n",
    "\n",
    "# Print the organic results to the console\n",
    "for result in organic_results:\n",
    "    print(f'Position: {result.position}, Title: {result.title}, Link: {result.link}, Snippet: {result.snippet}')"
   ]
  },
  {
   "cell_type": "markdown",
   "metadata": {},
   "source": [
    "🤖 **Assistant**: I have found the official source of the Canadian sanctions list. The most relevant result is the 'Consolidated Canadian Autonomous Sanctions List' from the Government of Canada's website. I will proceed to download the list from this source."
   ]
  },
  {
   "cell_type": "code",
   "execution_count": null,
   "metadata": {},
   "outputs": [
    {
     "name": "stdout",
     "output_type": "stream",
     "text": [
      "Output:\n",
      "Download successful\n",
      "Errors:\n",
      "[No error output]\n",
      "Logging:\n",
      "[No logger output]\n"
     ]
    }
   ],
   "source": [
    "import requests\n",
    "\n",
    "# URL of the Canadian sanctions list\n",
    "url = 'https://www.international.gc.ca/world-monde/international_relations-relations_internationales/sanctions/consolidated-consolide.aspx?lang=eng'\n",
    "\n",
    "# Download the sanctions list\n",
    "response = requests.get(url)\n",
    "\n",
    "# Check if the request was successful\n",
    "if response.status_code == 200:\n",
    "    print('Download successful')\n",
    "else:\n",
    "    print(f'Download failed with status code: {response.status_code}')"
   ]
  },
  {
   "cell_type": "markdown",
   "metadata": {},
   "source": [
    "🤖 **Assistant**: The Canadian sanctions list has been downloaded successfully. I will now proceed to convert the data to CSV format."
   ]
  },
  {
   "cell_type": "code",
   "execution_count": null,
   "metadata": {},
   "outputs": [
    {
     "name": "stdout",
     "output_type": "stream",
     "text": [
      "Output:\n",
      "lxml installed successfully\n",
      "Errors:\n",
      "[No error output]\n",
      "Logging:\n",
      "[No logger output]\n"
     ]
    }
   ],
   "source": [
    "import sys\n",
    "import subprocess\n",
    "\n",
    "# Install the missing lxml package\n",
    "subprocess.check_output([sys.executable, '-m', 'pip', 'install', 'lxml'])\n",
    "\n",
    "# Print the output of the installation to the console\n",
    "print('lxml installed successfully')"
   ]
  },
  {
   "cell_type": "markdown",
   "metadata": {},
   "source": [
    "🤖 **Assistant**: The `lxml` package has been installed successfully. I will now proceed to convert the downloaded HTML content to CSV format using `pandas`."
   ]
  },
  {
   "cell_type": "code",
   "execution_count": null,
   "metadata": {},
   "outputs": [
    {
     "name": "stdout",
     "output_type": "stream",
     "text": [
      "Output:\n",
      "Regulation,Entity or Ship,Title or Ship type,Last Name,Given Names,Aliases,Ship IMO number,Date of Birth or Ship build date (YYYY/MM/DD),Schedule,Item Number,Date of Listing (YYYY/MM/DD)\n",
      "Belarus,,,Atabekov,Khazalbek Bakhtibekovich,,,,\"1, Part 1\",1,2020-09-28\n",
      "Belarus,,,Balaba,Dmitry Vladimirovich,,,1972,\"1, Part 1\",2,2020-09-28\n",
      "Belarus,,,Barsukov,Aleksandr Petrovich,,,1965-04-29,\"1, Part 1\",3,2020-09-28\n",
      "Belarus,,,Dmukhailo,Yelena Nikolaevna,,,1971,\"1, Part 1\",4,2020-09-28\n",
      "Belarus,,,Ipatov,Vadim Dmitriyevich,,,1964-10-30,\"1, Part 1\",5,2020-09-28\n",
      "Belarus,,,Karaev,Yuri Khadzhimuratovich,,,1966-06-21,\"1, Part 1\",6,2020-09-28\n",
      "Belarus,,,Kubrakov,Ivan Vladimirovich,,,,\"1, Part 1\",7,2020-09-28\n",
      "Belarus,,,Lukashenko,Aleksandr Grigoryevich,,,1954-08-30,\"1, Part 1\",8,2020-09-28\n",
      "Belarus,,,Lukashenko,Viktor Aleksandrovich,,,1975-11-28,\"1, Part 1\",9,2020-09-28\n",
      "Belarus,,,Nazarenko,Yuri Gennadevich,,,1976-04-17,\"1, Part 1\",10,2020-09-28\n",
      "Belarus,,,Yermoshina,Lidia Mikhailovna,,,1953-01-29,\"1, Part 1\",11,\n",
      "Errors:\n",
      "[No error output]\n",
      "Logging:\n",
      "[No logger output]\n"
     ]
    }
   ],
   "source": [
    "import pandas as pd\n",
    "from io import StringIO\n",
    "\n",
    "html_content = response.text\n",
    "\n",
    "# Wrap the HTML content in a StringIO object\n",
    "html_content_io = StringIO(html_content)\n",
    "\n",
    "# Use pandas to read the HTML table\n",
    "sanctions_df = pd.read_html(html_content_io)[0]\n",
    "\n",
    "# Convert the DataFrame to CSV format\n",
    "sanctions_csv = sanctions_df.to_csv(index=False)\n",
    "\n",
    "# Print the first few rows of the CSV to verify\n",
    "print(sanctions_csv[:1000])"
   ]
  },
  {
   "cell_type": "markdown",
   "metadata": {},
   "source": [
    "🤖 **Assistant**: The Canadian sanctions list has been successfully converted to CSV format. I will now save the CSV file to the local filesystem."
   ]
  },
  {
   "cell_type": "code",
   "execution_count": null,
   "metadata": {},
   "outputs": [
    {
     "name": "stdout",
     "output_type": "stream",
     "text": [
      "Output:\n",
      "Saved the Canadian sanctions list to canadian_sanctions_list.csv\n",
      "Errors:\n",
      "[No error output]\n",
      "Logging:\n",
      "[No logger output]\n"
     ]
    }
   ],
   "source": [
    "# Define the file path for the CSV file\n",
    "csv_file_path = 'canadian_sanctions_list.csv'\n",
    "\n",
    "# Save the DataFrame to the CSV file\n",
    "sanctions_df.to_csv(csv_file_path, index=False)\n",
    "\n",
    "# Print a message to confirm the file has been saved\n",
    "print(f'Saved the Canadian sanctions list to {csv_file_path}')"
   ]
  },
  {
   "cell_type": "markdown",
   "metadata": {},
   "source": [
    "🤖 **Assistant**: The Canadian sanctions list has been saved to the CSV file. I will now verify the data to ensure all records are included and the file is in the expected format."
   ]
  },
  {
   "cell_type": "code",
   "execution_count": null,
   "metadata": {},
   "outputs": [
    {
     "name": "stdout",
     "output_type": "stream",
     "text": [
      "Output:\n",
      "Number of records in the CSV file: 4666\n",
      "  Regulation Entity or Ship Title or Ship type  Last Name  ... Date of Birth or Ship build date (YYYY/MM/DD)   Schedule  Item Number Date of Listing (YYYY/MM/DD)\n",
      "0    Belarus            NaN                NaN   Atabekov  ...                                           NaN  1, Part 1            1                   2020-09-28\n",
      "1    Belarus            NaN                NaN     Balaba  ...                                          1972  1, Part 1            2                   2020-09-28\n",
      "2    Belarus            NaN                NaN   Barsukov  ...                                    1965-04-29  1, Part 1            3                   2020-09-28\n",
      "3    Belarus            NaN                NaN  Dmukhailo  ...                                          1971  1, Part 1            4                   2020-09-28\n",
      "4    Belarus            NaN                NaN     Ipatov  ...                                    1964-10-30  1, Part 1            5                   2020-09-28\n",
      "\n",
      "[5 rows x 11 columns]\n",
      "Errors:\n",
      "[No error output]\n",
      "Logging:\n",
      "[No logger output]\n"
     ]
    }
   ],
   "source": [
    "# Read the CSV file to verify the data\n",
    "sanctions_df = pd.read_csv(csv_file_path)\n",
    "\n",
    "# Check the number of records in the CSV file\n",
    "num_records = len(sanctions_df)\n",
    "\n",
    "# Print the number of records and the first few rows to verify\n",
    "print(f'Number of records in the CSV file: {num_records}')\n",
    "print(sanctions_df.head())"
   ]
  },
  {
   "cell_type": "markdown",
   "metadata": {},
   "source": [
    "🤖 **Assistant**: The Canadian sanctions list has been saved to the CSV file and contains 4666 records. I will now perform a quick data validation to ensure the data is in the expected format."
   ]
  },
  {
   "cell_type": "code",
   "execution_count": null,
   "metadata": {},
   "outputs": [
    {
     "name": "stdout",
     "output_type": "stream",
     "text": [
      "Output:\n",
      "Number of records in the CSV file: 4666\n",
      "  Regulation Entity or Ship Title or Ship type  Last Name  ... Date of Birth or Ship build date (YYYY/MM/DD)   Schedule  Item Number Date of Listing (YYYY/MM/DD)\n",
      "0    Belarus            NaN                NaN   Atabekov  ...                                           NaN  1, Part 1            1                   2020-09-28\n",
      "1    Belarus            NaN                NaN     Balaba  ...                                          1972  1, Part 1            2                   2020-09-28\n",
      "2    Belarus            NaN                NaN   Barsukov  ...                                    1965-04-29  1, Part 1            3                   2020-09-28\n",
      "3    Belarus            NaN                NaN  Dmukhailo  ...                                          1971  1, Part 1            4                   2020-09-28\n",
      "4    Belarus            NaN                NaN     Ipatov  ...                                    1964-10-30  1, Part 1            5                   2020-09-28\n",
      "\n",
      "[5 rows x 11 columns]\n",
      "Missing values in the DataFrame:\n",
      " Regulation                                          0\n",
      "Entity or Ship                                   3289\n",
      "Title or Ship type                               4494\n",
      "Last Name                                        1377\n",
      "Given Names                                      1380\n",
      "Aliases                                          1853\n",
      "Ship IMO number                                  4557\n",
      "Date of Birth or Ship build date (YYYY/MM/DD)    2865\n",
      "Schedule                                          321\n",
      "Item Number                                         0\n",
      "Date of Listing (YYYY/MM/DD)                        0\n",
      "dtype: int64\n",
      "Data types of the columns:\n",
      " Regulation                                        object\n",
      "Entity or Ship                                    object\n",
      "Title or Ship type                                object\n",
      "Last Name                                         object\n",
      "Given Names                                       object\n",
      "Aliases                                           object\n",
      "Ship IMO number                                  float64\n",
      "Date of Birth or Ship build date (YYYY/MM/DD)     object\n",
      "Schedule                                          object\n",
      "Item Number                                        int64\n",
      "Date of Listing (YYYY/MM/DD)                      object\n",
      "dtype: object\n",
      "Errors:\n",
      "[No error output]\n",
      "Logging:\n",
      "[No logger output]\n"
     ]
    }
   ],
   "source": [
    "# Verify the data in the DataFrame\n",
    "# Check the number of records and the first few rows\n",
    "print(f'Number of records in the CSV file: {num_records}')\n",
    "print(sanctions_df.head())\n",
    "\n",
    "# Check if the DataFrame has any missing values\n",
    "missing_values = sanctions_df.isnull().sum()\n",
    "print('Missing values in the DataFrame:\\n', missing_values)\n",
    "\n",
    "# Check the data types of the columns\n",
    "print('Data types of the columns:\\n', sanctions_df.dtypes)"
   ]
  },
  {
   "cell_type": "markdown",
   "metadata": {},
   "source": [
    "👤 **User**: please save the conversation to a notebook"
   ]
  },
  {
   "cell_type": "markdown",
   "metadata": {},
   "source": [
    "🤖 **Assistant**: ### Detailed Plan to Save the Conversation to a Jupyter Notebook\n",
    "\n",
    "#### 1. Gather Information about the User's Goal\n",
    "- **Objective**: Save the current conversation to a Jupyter Notebook file.\n",
    "- **Source**: The conversation history is available in the current environment.\n",
    "\n",
    "#### 2. Break Down the Goal into Smaller, Manageable Steps\n",
    "1. **Identify the Conversation History**\n",
    "   - Determine the current conversation history and ensure it is accessible.\n",
    "2. **Create a Jupyter Notebook File**\n",
    "   - Use the `tools.save_conversation_history_to_notebook` function to save the conversation history to a Jupyter Notebook file.\n",
    "3. **Verify the Jupyter Notebook File**\n",
    "   - Check that the Jupyter Notebook file has been created and contains the conversation history.\n",
    "\n",
    "#### 3. Identify the Tools and Resources Needed for Each Step\n",
    "- **Identify the Conversation History**:\n",
    "  - Use the current environment context to access the conversation history.\n",
    "- **Create a Jupyter Notebook File**:\n",
    "  - Use the `tools.save_conversation_history_to_notebook` function to save the conversation history.\n",
    "- **Verify the Jupyter Notebook File**:\n",
    "  - Use the `index_current_directory` function to verify the file has been created and contains the expected content.\n",
    "\n",
    "#### 4. Determine the Order in Which the Steps Should Be Executed\n",
    "1. Identify the conversation history.\n",
    "2. Create the Jupyter Notebook file.\n",
    "3. Verify the Jupyter Notebook file.\n",
    "\n",
    "#### 5. Create a Detailed Plan That Outlines Each Step, the Tools/Resources Required, and the Expected Outcome\n",
    "1. **Identify the Conversation History**\n",
    "   - **Action**: Ensure the conversation history is accessible in the current environment.\n",
    "   - **Tools**: Current environment context.\n",
    "   - **Expected Outcome**: The conversation history is available and ready to be saved.\n",
    "\n",
    "2. **Create a Jupyter Notebook File**\n",
    "   - **Action**: Use the `tools.save_conversation_history_to_notebook` function to save the conversation history to a Jupyter Notebook file.\n",
    "   - **Tools**: `tools.save_conversation_history_to_notebook`\n",
    "   - **Expected Outcome**: A Jupyter Notebook file is created and contains the conversation history.\n",
    "\n",
    "3. **Verify the Jupyter Notebook File**\n",
    "   - **Action**: Use the `index_current_directory` function to verify the file has been created and contains the expected content.\n",
    "   - **Tools**: `index_current_directory`\n",
    "   - **Expected Outcome**: The Jupyter Notebook file is verified to contain the conversation history.\n",
    "\n",
    "#### 6. Create a Validation Plan for How You Will Check That Each Step is Successful and That the Overall Goal is Achieved at the End\n",
    "1. **Identify the Conversation History**\n",
    "   - **Validation**: Ensure the conversation history is accessible and complete.\n",
    "2. **Create a Jupyter Notebook File**\n",
    "   - **Validation**: Check that the Jupyter Notebook file is created and contains the conversation history.\n",
    "3. **Verify the Jupyter Notebook File**\n",
    "   - **Validation**: Use the `index_current_directory` function to verify the file has been created and contains the expected content.\n",
    "\n",
    "By following this detailed plan, we will ensure that the conversation history is saved to a Jupyter Notebook file and verified to contain all the necessary information."
   ]
  }
 ],
 "metadata": {
  "kernelspec": {
   "display_name": "Python 3",
   "language": "python",
   "name": "python3"
  },
  "language_info": {
   "codemirror_mode": {
    "name": "ipython",
    "version": 3
   },
   "file_extension": ".py",
   "mimetype": "text/x-python",
   "name": "python",
   "nbconvert_exporter": "python",
   "pygments_lexer": "ipython3",
   "version": "3.x"
  }
 },
 "nbformat": 4,
 "nbformat_minor": 5
}
